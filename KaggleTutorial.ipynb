{
  "nbformat": 4,
  "nbformat_minor": 0,
  "metadata": {
    "colab": {
      "name": "KaggleTutorial.ipynb",
      "version": "0.3.2",
      "provenance": [],
      "collapsed_sections": [],
      "include_colab_link": true
    },
    "kernelspec": {
      "name": "python3",
      "display_name": "Python 3"
    }
  },
  "cells": [
    {
      "cell_type": "markdown",
      "metadata": {
        "id": "view-in-github",
        "colab_type": "text"
      },
      "source": [
        "<a href=\"https://colab.research.google.com/github/lchutny/myLibrary/blob/master/KaggleTutorial.ipynb\" target=\"_parent\"><img src=\"https://colab.research.google.com/assets/colab-badge.svg\" alt=\"Open In Colab\"/></a>"
      ]
    },
    {
      "cell_type": "code",
      "metadata": {
        "id": "JC4jHGfSjy-e",
        "colab_type": "code",
        "colab": {
          "base_uri": "https://localhost:8080/",
          "height": 1000
        },
        "outputId": "6ab58efe-b8ea-4129-8cd4-04c503f41877"
      },
      "source": [
        "!pip install scipy==1.0.0\n",
        "!pip install scikit-learn==0.17.1\n",
        "\n",
        "!pip install -r https://raw.githubusercontent.com/Lasagne/Lasagne/master/requirements.txt\n",
        "!pip install https://github.com/Lasagne/Lasagne/archive/master.zip\n",
        "!pip install nolearn\n",
        "!pip install git+https://github.com/Lasagne/Lasagne"
      ],
      "execution_count": 5,
      "outputs": [
        {
          "output_type": "stream",
          "text": [
            "Collecting scipy==1.0.0\n",
            "\u001b[?25l  Downloading https://files.pythonhosted.org/packages/d8/5e/caa01ba7be11600b6a9d39265440d7b3be3d69206da887c42bef049521f2/scipy-1.0.0-cp36-cp36m-manylinux1_x86_64.whl (50.0MB)\n",
            "\u001b[K     |████████████████████████████████| 50.0MB 22.1MB/s \n",
            "\u001b[?25hRequirement already satisfied: numpy>=1.8.2 in /usr/local/lib/python3.6/dist-packages (from scipy==1.0.0) (1.16.4)\n",
            "\u001b[31mERROR: cvxpy 1.0.15 has requirement scipy>=1.1.0, but you'll have scipy 1.0.0 which is incompatible.\u001b[0m\n",
            "\u001b[31mERROR: albumentations 0.1.12 has requirement imgaug<0.2.7,>=0.2.5, but you'll have imgaug 0.2.9 which is incompatible.\u001b[0m\n",
            "Installing collected packages: scipy\n",
            "  Found existing installation: scipy 1.3.0\n",
            "    Uninstalling scipy-1.3.0:\n",
            "      Successfully uninstalled scipy-1.3.0\n",
            "Successfully installed scipy-1.0.0\n"
          ],
          "name": "stdout"
        },
        {
          "output_type": "display_data",
          "data": {
            "application/vnd.colab-display-data+json": {
              "pip_warning": {
                "packages": [
                  "scipy"
                ]
              }
            }
          },
          "metadata": {
            "tags": []
          }
        },
        {
          "output_type": "stream",
          "text": [
            "Collecting scikit-learn==0.17.1\n",
            "\u001b[?25l  Downloading https://files.pythonhosted.org/packages/0d/1d/9c775f9403565f68aa23f9cef76c817a7115abd7ca1e1c5958a68c49fb6f/scikit-learn-0.17.1.tar.gz (7.9MB)\n",
            "\u001b[K     |████████████████████████████████| 7.9MB 2.8MB/s \n",
            "\u001b[?25hBuilding wheels for collected packages: scikit-learn\n",
            "  Building wheel for scikit-learn (setup.py) ... \u001b[?25l\u001b[?25hdone\n",
            "  Stored in directory: /root/.cache/pip/wheels/17/68/59/e7417b53bb95a8bbbf17f8ab90fa1b8e985141e76de1d110b7\n",
            "Successfully built scikit-learn\n",
            "\u001b[31mERROR: yellowbrick 0.9.1 has requirement scikit-learn>=0.20, but you'll have scikit-learn 0.17.1 which is incompatible.\u001b[0m\n",
            "\u001b[31mERROR: mlxtend 0.14.0 has requirement scikit-learn>=0.18, but you'll have scikit-learn 0.17.1 which is incompatible.\u001b[0m\n",
            "\u001b[31mERROR: imbalanced-learn 0.4.3 has requirement scikit-learn>=0.20, but you'll have scikit-learn 0.17.1 which is incompatible.\u001b[0m\n",
            "\u001b[31mERROR: fancyimpute 0.4.3 has requirement scikit-learn>=0.19.1, but you'll have scikit-learn 0.17.1 which is incompatible.\u001b[0m\n",
            "Installing collected packages: scikit-learn\n",
            "  Found existing installation: scikit-learn 0.21.2\n",
            "    Uninstalling scikit-learn-0.21.2:\n",
            "      Successfully uninstalled scikit-learn-0.21.2\n",
            "Successfully installed scikit-learn-0.17.1\n"
          ],
          "name": "stdout"
        },
        {
          "output_type": "display_data",
          "data": {
            "application/vnd.colab-display-data+json": {
              "pip_warning": {
                "packages": [
                  "sklearn"
                ]
              }
            }
          },
          "metadata": {
            "tags": []
          }
        },
        {
          "output_type": "stream",
          "text": [
            "Collecting Theano==0.8.2 (from -r https://raw.githubusercontent.com/Lasagne/Lasagne/master/requirements.txt (line 1))\n",
            "\u001b[?25l  Downloading https://files.pythonhosted.org/packages/30/3d/2354fac96ca9594b755ec22d91133522a7db0caa0877165a522337d0ed73/Theano-0.8.2.tar.gz (2.9MB)\n",
            "\u001b[K     |████████████████████████████████| 2.9MB 2.7MB/s \n",
            "\u001b[?25hRequirement already satisfied: numpy>=1.7.1 in /usr/local/lib/python3.6/dist-packages (from Theano==0.8.2->-r https://raw.githubusercontent.com/Lasagne/Lasagne/master/requirements.txt (line 1)) (1.16.4)\n",
            "Requirement already satisfied: scipy>=0.11 in /usr/local/lib/python3.6/dist-packages (from Theano==0.8.2->-r https://raw.githubusercontent.com/Lasagne/Lasagne/master/requirements.txt (line 1)) (1.0.0)\n",
            "Requirement already satisfied: six>=1.9.0 in /usr/local/lib/python3.6/dist-packages (from Theano==0.8.2->-r https://raw.githubusercontent.com/Lasagne/Lasagne/master/requirements.txt (line 1)) (1.12.0)\n",
            "Building wheels for collected packages: Theano\n",
            "  Building wheel for Theano (setup.py) ... \u001b[?25l\u001b[?25hdone\n",
            "  Stored in directory: /root/.cache/pip/wheels/e4/33/9d/880c86cc0db0b29d34fb6c62256322a4ea1694404192c2b408\n",
            "Successfully built Theano\n",
            "\u001b[31mERROR: pymc3 3.7 has requirement theano>=1.0.4, but you'll have theano 0.8.2 which is incompatible.\u001b[0m\n",
            "Installing collected packages: Theano\n",
            "  Found existing installation: Theano 1.0.4\n",
            "    Uninstalling Theano-1.0.4:\n",
            "      Successfully uninstalled Theano-1.0.4\n",
            "Successfully installed Theano-0.8.2\n",
            "Collecting https://github.com/Lasagne/Lasagne/archive/master.zip\n",
            "\u001b[?25l  Downloading https://github.com/Lasagne/Lasagne/archive/master.zip\n",
            "\u001b[K     | 276kB 4.1MB/s\n",
            "\u001b[?25hRequirement already satisfied: numpy in /usr/local/lib/python3.6/dist-packages (from Lasagne==0.2.dev1) (1.16.4)\n",
            "Building wheels for collected packages: Lasagne\n",
            "  Building wheel for Lasagne (setup.py) ... \u001b[?25l\u001b[?25hdone\n",
            "  Stored in directory: /tmp/pip-ephem-wheel-cache-eo8te3bt/wheels/ca/4a/00/87f1777b229481fe76562df7c0cfb993bc88ed0cc37e3f0ed4\n",
            "Successfully built Lasagne\n",
            "Installing collected packages: Lasagne\n",
            "Successfully installed Lasagne-0.2.dev1\n",
            "Collecting nolearn\n",
            "\u001b[?25l  Downloading https://files.pythonhosted.org/packages/ff/69/2882491c14c58431c06d5a12a007eefcc4fb3f5ac7af624a5d212b0bbdd4/nolearn-0.6.0.tar.gz (320kB)\n",
            "\u001b[K     |████████████████████████████████| 327kB 2.8MB/s \n",
            "\u001b[?25hCollecting gdbn (from nolearn)\n",
            "  Downloading https://files.pythonhosted.org/packages/88/5c/512341ac1e6e8fa3008171b8dae49d2bd7b886e79f525658955bc59946c1/gdbn-0.1.tar.gz\n",
            "Requirement already satisfied: joblib in /usr/local/lib/python3.6/dist-packages (from nolearn) (0.13.2)\n",
            "Requirement already satisfied: scikit-learn in /usr/local/lib/python3.6/dist-packages (from nolearn) (0.17.1)\n",
            "Requirement already satisfied: tabulate in /usr/local/lib/python3.6/dist-packages (from nolearn) (0.8.3)\n",
            "Requirement already satisfied: Lasagne in /usr/local/lib/python3.6/dist-packages (from nolearn) (0.2.dev1)\n",
            "Requirement already satisfied: Theano in /usr/local/lib/python3.6/dist-packages (from nolearn) (0.8.2)\n",
            "Collecting gnumpy (from gdbn->nolearn)\n",
            "  Downloading https://files.pythonhosted.org/packages/46/63/2c7f2fd6763130700dff21aada32b2d6cf3373a625af71cc74f7090818f4/gnumpy-0.2.tar.gz\n",
            "Requirement already satisfied: numpy in /usr/local/lib/python3.6/dist-packages (from Lasagne->nolearn) (1.16.4)\n",
            "Requirement already satisfied: scipy>=0.11 in /usr/local/lib/python3.6/dist-packages (from Theano->nolearn) (1.0.0)\n",
            "Requirement already satisfied: six>=1.9.0 in /usr/local/lib/python3.6/dist-packages (from Theano->nolearn) (1.12.0)\n",
            "Building wheels for collected packages: nolearn, gdbn, gnumpy\n",
            "  Building wheel for nolearn (setup.py) ... \u001b[?25l\u001b[?25hdone\n",
            "  Stored in directory: /root/.cache/pip/wheels/9c/b3/e8/a863ca29687669deabe68012f333d5c5bd6c9b5a3bea4f2538\n",
            "  Building wheel for gdbn (setup.py) ... \u001b[?25l\u001b[?25hdone\n",
            "  Stored in directory: /root/.cache/pip/wheels/f1/aa/d7/7968a6696737f947ab854dc3394186a8fcfbd8aedcc8c66d07\n",
            "  Building wheel for gnumpy (setup.py) ... \u001b[?25l\u001b[?25hdone\n",
            "  Stored in directory: /root/.cache/pip/wheels/61/c5/d7/74a2e7afea611ed0469c95bfb9d21f89dd73f1f4f9ecd7a784\n",
            "Successfully built nolearn gdbn gnumpy\n",
            "Installing collected packages: gnumpy, gdbn, nolearn\n",
            "Successfully installed gdbn-0.1 gnumpy-0.2 nolearn-0.6.0\n",
            "Collecting git+https://github.com/Lasagne/Lasagne\n",
            "  Cloning https://github.com/Lasagne/Lasagne to /tmp/pip-req-build-1619fope\n",
            "  Running command git clone -q https://github.com/Lasagne/Lasagne /tmp/pip-req-build-1619fope\n",
            "Requirement already satisfied (use --upgrade to upgrade): Lasagne==0.2.dev1 from git+https://github.com/Lasagne/Lasagne in /usr/local/lib/python3.6/dist-packages\n",
            "Requirement already satisfied: numpy in /usr/local/lib/python3.6/dist-packages (from Lasagne==0.2.dev1) (1.16.4)\n",
            "Building wheels for collected packages: Lasagne\n",
            "  Building wheel for Lasagne (setup.py) ... \u001b[?25l\u001b[?25hdone\n",
            "  Stored in directory: /tmp/pip-ephem-wheel-cache-agw3lb2f/wheels/c4/20/90/9f7242c381402829c5918261e3eb51a87bc1d8521456749b57\n",
            "Successfully built Lasagne\n"
          ],
          "name": "stdout"
        }
      ]
    },
    {
      "cell_type": "code",
      "metadata": {
        "id": "NiYVSyr14YXk",
        "colab_type": "code",
        "colab": {
          "base_uri": "https://localhost:8080/",
          "height": 51
        },
        "outputId": "89f5fa3c-0020-445c-b7ff-9605a41edb98"
      },
      "source": [
        "# ADD OTHER IMPORTS HERE AS NECESSARY\n",
        "# This tells matplotlib not to try opening a new window for each plot.\n",
        "%matplotlib inline\n",
        "\n",
        "# General libraries.\n",
        "import re\n",
        "import numpy as np\n",
        "import matplotlib.pyplot as plt\n",
        "import pandas as pd\n",
        "import seaborn as sns\n",
        "import time\n",
        "import sys\n",
        "import csv\n",
        "import os\n",
        "import scipy\n",
        "\n",
        "# SK-learn libraries for learning.\n",
        "import sklearn\n",
        "from sklearn.pipeline import Pipeline\n",
        "#from sklearn.neighbors import KNeighborsClassifier\n",
        "#from sklearn.linear_model import LogisticRegression\n",
        "from sklearn.naive_bayes import BernoulliNB\n",
        "from sklearn.naive_bayes import MultinomialNB\n",
        "#from sklearn.model_selection import GridSearchCV\n",
        "#from sklearn.datasets import fetch_openml\n",
        "from sklearn.utils import shuffle\n",
        "from sklearn.cross_validation import KFold\n",
        "from sklearn.cross_validation import StratifiedKFold\n",
        "import lasagne\n",
        "from nolearn.lasagne import NeuralNet\n",
        "\n",
        "# SK-learn libraries for evaluation.\n",
        "from sklearn.metrics import confusion_matrix\n",
        "from sklearn import metrics\n",
        "from sklearn.metrics import classification_report\n",
        "\n",
        "\n",
        "# Theano imports\n",
        "import theano \n",
        "from theano import tensor as T\n",
        "from theano.sandbox.rng_mrg import MRG_RandomStreams as RandomStreams\n",
        "\n",
        "print(theano.config.device) # We're using CPUs (for now)\n",
        "print(theano.config.floatX) # Should be 64 bit for CPUs\n",
        "np.random.seed(0) # Setting random seed"
      ],
      "execution_count": 5,
      "outputs": [
        {
          "output_type": "stream",
          "text": [
            "cpu\n",
            "float64\n"
          ],
          "name": "stdout"
        }
      ]
    },
    {
      "cell_type": "code",
      "metadata": {
        "id": "xDCN2Gh7hrYV",
        "colab_type": "code",
        "colab": {
          "base_uri": "https://localhost:8080/",
          "height": 119
        },
        "outputId": "1d75884a-8f62-4867-85f3-9a637230cf20"
      },
      "source": [
        "print(\"Python Version = \",sys.version)\n",
        "print(\"Theano Version=\",theano.__version__)\n",
        "print(\"Numpy Version=\",np.__version__)\n",
        "print(\"Scikit Learn Version=\",sklearn.__version__)\n",
        "print(\"Scipy Version=\",scipy.__version__)"
      ],
      "execution_count": 6,
      "outputs": [
        {
          "output_type": "stream",
          "text": [
            "Python Version =  3.6.8 (default, Jan 14 2019, 11:02:34) \n",
            "[GCC 8.0.1 20180414 (experimental) [trunk revision 259383]]\n",
            "Theano Version= 0.8.2\n",
            "Numpy Version= 1.16.4\n",
            "Scikit Learn Version= 0.17.1\n",
            "Scipy Version= 1.0.0\n"
          ],
          "name": "stdout"
        }
      ]
    },
    {
      "cell_type": "code",
      "metadata": {
        "id": "5dLstuie1gjp",
        "colab_type": "code",
        "colab": {
          "base_uri": "https://localhost:8080/",
          "height": 51
        },
        "outputId": "443a79b8-a802-4674-ba1d-bc3fe21a1406"
      },
      "source": [
        "train_data = pd.DataFrame(pd.read_csv('/content/training.csv'))[:6000]\n",
        "df = train_data\n",
        "print(\"TrainDataShape=\",df.shape)\n",
        "print(type(df))"
      ],
      "execution_count": 7,
      "outputs": [
        {
          "output_type": "stream",
          "text": [
            "TrainDataShape= (6000, 31)\n",
            "<class 'pandas.core.frame.DataFrame'>\n"
          ],
          "name": "stdout"
        }
      ]
    },
    {
      "cell_type": "code",
      "metadata": {
        "id": "0hrA2_ca5MG3",
        "colab_type": "code",
        "colab": {
          "base_uri": "https://localhost:8080/",
          "height": 153
        },
        "outputId": "79aad01b-91bf-4e78-92ba-517679069b3f"
      },
      "source": [
        "print(df.head())"
      ],
      "execution_count": 8,
      "outputs": [
        {
          "output_type": "stream",
          "text": [
            "   left_eye_center_x  ...                                              Image\n",
            "0          66.033564  ...  238 236 237 238 240 240 239 241 241 243 240 23...\n",
            "1          64.332936  ...  219 215 204 196 204 211 212 200 180 168 178 19...\n",
            "2          65.057053  ...  144 142 159 180 188 188 184 180 167 132 84 59 ...\n",
            "3          65.225739  ...  193 192 193 194 194 194 193 192 168 111 50 12 ...\n",
            "4          66.725301  ...  147 148 160 196 215 214 216 217 219 220 206 18...\n",
            "\n",
            "[5 rows x 31 columns]\n"
          ],
          "name": "stdout"
        }
      ]
    },
    {
      "cell_type": "code",
      "metadata": {
        "id": "wU9sUXXj4vSW",
        "colab_type": "code",
        "colab": {}
      },
      "source": [
        "# train and dev data will have labels as well as an associated image\n",
        "# test data only has the image column\n",
        "# the image column is a string field delimited by spaces\n",
        "# we will split the image column and turn it into a numpy array\n",
        "\n",
        "# Assign the X variable to the image\n",
        "df['Image'] = df['Image'].apply(lambda image: np.fromstring(image, sep=' '))"
      ],
      "execution_count": 0,
      "outputs": []
    },
    {
      "cell_type": "code",
      "metadata": {
        "id": "jMUn4KmmBNwy",
        "colab_type": "code",
        "colab": {
          "base_uri": "https://localhost:8080/",
          "height": 68
        },
        "outputId": "406bfabe-7bee-4d8f-9f29-35ecef1c26b7"
      },
      "source": [
        "print(type(df))\n",
        "print(type(df['Image']))\n",
        "print(df['Image'][0])"
      ],
      "execution_count": 10,
      "outputs": [
        {
          "output_type": "stream",
          "text": [
            "<class 'pandas.core.frame.DataFrame'>\n",
            "<class 'pandas.core.series.Series'>\n",
            "[238. 236. 237. ...  70.  75.  90.]\n"
          ],
          "name": "stdout"
        }
      ]
    },
    {
      "cell_type": "code",
      "metadata": {
        "id": "V343WSP5BEWF",
        "colab_type": "code",
        "colab": {
          "base_uri": "https://localhost:8080/",
          "height": 561
        },
        "outputId": "7506c95d-c01e-431c-8750-43bb00a4208a"
      },
      "source": [
        "# prints the number of values for each column\n",
        "print(\"Number of Values Each Column = \",df.count())  "
      ],
      "execution_count": 11,
      "outputs": [
        {
          "output_type": "stream",
          "text": [
            "Number of Values Each Column =  left_eye_center_x            5990\n",
            "left_eye_center_y            5990\n",
            "right_eye_center_x           5987\n",
            "right_eye_center_y           5987\n",
            "left_eye_inner_corner_x      2271\n",
            "left_eye_inner_corner_y      2271\n",
            "left_eye_outer_corner_x      2267\n",
            "left_eye_outer_corner_y      2267\n",
            "right_eye_inner_corner_x     2268\n",
            "right_eye_inner_corner_y     2268\n",
            "right_eye_outer_corner_x     2268\n",
            "right_eye_outer_corner_y     2268\n",
            "left_eyebrow_inner_end_x     2270\n",
            "left_eyebrow_inner_end_y     2270\n",
            "left_eyebrow_outer_end_x     2225\n",
            "left_eyebrow_outer_end_y     2225\n",
            "right_eyebrow_inner_end_x    2270\n",
            "right_eyebrow_inner_end_y    2270\n",
            "right_eyebrow_outer_end_x    2236\n",
            "right_eyebrow_outer_end_y    2236\n",
            "nose_tip_x                   6000\n",
            "nose_tip_y                   6000\n",
            "mouth_left_corner_x          2269\n",
            "mouth_left_corner_y          2269\n",
            "mouth_right_corner_x         2270\n",
            "mouth_right_corner_y         2270\n",
            "mouth_center_top_lip_x       2275\n",
            "mouth_center_top_lip_y       2275\n",
            "mouth_center_bottom_lip_x    5969\n",
            "mouth_center_bottom_lip_y    5969\n",
            "Image                        6000\n",
            "dtype: int64\n"
          ],
          "name": "stdout"
        }
      ]
    },
    {
      "cell_type": "code",
      "metadata": {
        "id": "adi0rT1gBk-V",
        "colab_type": "code",
        "colab": {
          "base_uri": "https://localhost:8080/",
          "height": 34
        },
        "outputId": "cd8bb9ab-c261-43fc-94d1-8bf520896569"
      },
      "source": [
        "# drop all rows that have missing values in them\n",
        "df = df.dropna() \n",
        "print(\"Number of rows total after dropping missing valued data = \",df.shape)\n",
        "\n",
        "# scale pixel values to [0, 1]\n",
        "X = np.vstack(df['Image'].values) / 255.  \n",
        "X = X.astype(np.float32)\n",
        "\n",
        "# Assign y variable to labels, if applicable (i.e. if we are not using test data)\n",
        "\n",
        "# set y to equal all but the last column (only the labels, not the image)\n",
        "y = df[df.columns[:-1]].values\n",
        "# scale target coordinates to [-1, 1]\n",
        "y = (y - 48) / 48\n",
        "# shuffle train data\n",
        "X, y = shuffle(X, y, random_state=42)\n",
        "y = y.astype(np.float32)"
      ],
      "execution_count": 13,
      "outputs": [
        {
          "output_type": "stream",
          "text": [
            "Number of rows total after dropping missing valued data =  (2140, 31)\n"
          ],
          "name": "stdout"
        }
      ]
    }
  ]
}
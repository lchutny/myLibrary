{
  "nbformat": 4,
  "nbformat_minor": 0,
  "metadata": {
    "colab": {
      "name": "week7-NeuralNets_LC.ipynb",
      "version": "0.3.2",
      "provenance": [],
      "collapsed_sections": [],
      "include_colab_link": true
    },
    "language_info": {
      "codemirror_mode": {
        "name": "ipython",
        "version": 3
      },
      "file_extension": ".py",
      "mimetype": "text/x-python",
      "name": "python",
      "nbconvert_exporter": "python",
      "pygments_lexer": "ipython3",
      "version": "3.6.8"
    },
    "kernelspec": {
      "display_name": "Python 3",
      "language": "python",
      "name": "python3"
    }
  },
  "cells": [
    {
      "cell_type": "markdown",
      "metadata": {
        "id": "view-in-github",
        "colab_type": "text"
      },
      "source": [
        "<a href=\"https://colab.research.google.com/github/lchutny/myLibrary/blob/master/week7_NeuralNets_LC.ipynb\" target=\"_parent\"><img src=\"https://colab.research.google.com/assets/colab-badge.svg\" alt=\"Open In Colab\"/></a>"
      ]
    },
    {
      "cell_type": "markdown",
      "metadata": {
        "id": "MU1tY0yVAFMG",
        "colab_type": "text"
      },
      "source": [
        "# Digit Classification with Neural Networks "
      ]
    },
    {
      "cell_type": "markdown",
      "metadata": {
        "id": "vxDb_gEjAFMH",
        "colab_type": "text"
      },
      "source": [
        "Interest in neural networks, and in particular those with architechures that support deep learning, has been surging in recent years.  \n",
        "\n",
        "In this notebook we will be revisiting the problem of digit classification on the MNIST data.  In doing so, we will introduce a new Python library, Theano, for working with neural networks.  Theano is a popular choice for neural networks as the same code can be run on either CPUs or GPUs.  GPUs greatly speed up the training and prediction, and is readily available. Amazon offers GPU machines on EC2.  \n",
        "\n",
        "In part 1, we'll introduce Theano, and refresh ourselves on the MNIST dataset.  In part 2, we'll create a multi-layer neural network with a simple architechure, and train it using backpropagation.  Part 3 will introduce the convolutional architechure, which can be said to be doing 'deep learning' (also called feature learning or representation learning)."
      ]
    },
    {
      "cell_type": "markdown",
      "metadata": {
        "id": "6Rd3t4pSAFMH",
        "colab_type": "text"
      },
      "source": [
        "#### Part 1: Basics"
      ]
    },
    {
      "cell_type": "markdown",
      "metadata": {
        "id": "RqlccxXiAFMI",
        "colab_type": "text"
      },
      "source": [
        "Lets start to look at Theano.  If later you'd like to go deeper into Theano, you may want to read this paper: http://www.iro.umontreal.ca/~lisa/pointeurs/theano_scipy2010.pdf"
      ]
    },
    {
      "cell_type": "markdown",
      "metadata": {
        "id": "_hmNAPGCAFMI",
        "colab_type": "text"
      },
      "source": [
        "Install Theano if you haven't already.  Then let's load it, and set it to work with a CPU.  For reference, here is the Theano documentation: http://www.deeplearning.net/software/theano/library/"
      ]
    },
    {
      "cell_type": "code",
      "metadata": {
        "id": "FeAmb0Y5AFMJ",
        "colab_type": "code",
        "colab": {
          "base_uri": "https://localhost:8080/",
          "height": 51
        },
        "outputId": "e904d3c9-8832-4fc1-85f4-098015ff5125"
      },
      "source": [
        "%matplotlib inline\n",
        "\n",
        "import numpy as np\n",
        "from sklearn.datasets import fetch_openml\n",
        "from sklearn.metrics import classification_report\n",
        "from sklearn.neighbors import KNeighborsClassifier\n",
        "import sklearn\n",
        "import time\n",
        "\n",
        "import warnings\n",
        "warnings.filterwarnings('ignore')\n",
        "\n",
        "import theano \n",
        "from theano import tensor as T\n",
        "from theano.sandbox.rng_mrg import MRG_RandomStreams as RandomStreams\n",
        "print(theano.config.device) # We're using CPUs (for now)\n",
        "print(theano.config.floatX) # Should be 64 bit for CPUs\n",
        "\n",
        "np.random.seed(0)"
      ],
      "execution_count": 2,
      "outputs": [
        {
          "output_type": "stream",
          "text": [
            "cpu\n",
            "float64\n"
          ],
          "name": "stdout"
        }
      ]
    },
    {
      "cell_type": "code",
      "metadata": {
        "id": "YH2qhCE6AFMO",
        "colab_type": "code",
        "colab": {
          "base_uri": "https://localhost:8080/",
          "height": 102
        },
        "outputId": "a2386405-aa32-4542-8296-be88d60d9924"
      },
      "source": [
        "import sys\n",
        "print(\"Python=\",sys.version)\n",
        "print(\"Numpy=\",np.__version__)\n",
        "print(\"ScikitLearn=\",sklearn.__version__)\n",
        "print(\"Theano=\",theano.__version__)"
      ],
      "execution_count": 3,
      "outputs": [
        {
          "output_type": "stream",
          "text": [
            "Python= 3.6.8 (default, Jan 14 2019, 11:02:34) \n",
            "[GCC 8.0.1 20180414 (experimental) [trunk revision 259383]]\n",
            "Numpy= 1.16.4\n",
            "ScikitLearn= 0.21.2\n",
            "Theano= 1.0.4\n"
          ],
          "name": "stdout"
        }
      ]
    },
    {
      "cell_type": "markdown",
      "metadata": {
        "id": "Gq-giKAeAFMQ",
        "colab_type": "text"
      },
      "source": [
        "Now for MNIST data..."
      ]
    },
    {
      "cell_type": "code",
      "metadata": {
        "id": "TAaFA2guAFMR",
        "colab_type": "code",
        "colab": {
          "base_uri": "https://localhost:8080/",
          "height": 68
        },
        "outputId": "50d4c4d1-e03c-44a0-a730-59b002eb3e97"
      },
      "source": [
        "# Repeating steps from Project 1 to prepare mnist dataset. \n",
        "X, Y = fetch_openml(name='mnist_784', return_X_y=True, cache=False)\n",
        "X = X / 255.0\n",
        "\n",
        "shuffle = np.random.permutation(np.arange(X.shape[0]))\n",
        "X, Y = X[shuffle], Y[shuffle]\n",
        "numExamples = 2000\n",
        "test_data, test_labels = X[70000-numExamples:], Y[70000-numExamples:]\n",
        "train_data, train_labels = X[:numExamples], Y[:numExamples]\n",
        "numFeatures = train_data[1].size\n",
        "numTrainExamples = train_data.shape[0]\n",
        "numTestExamples = test_data.shape[0]\n",
        "print('Features = ', numFeatures)\n",
        "print('Train set = ', numTrainExamples)\n",
        "print('Test set = ', numTestExamples)"
      ],
      "execution_count": 4,
      "outputs": [
        {
          "output_type": "stream",
          "text": [
            "Features =  784\n",
            "Train set =  2000\n",
            "Test set =  2000\n"
          ],
          "name": "stdout"
        }
      ]
    },
    {
      "cell_type": "markdown",
      "metadata": {
        "id": "AN5gBN8QAFMT",
        "colab_type": "text"
      },
      "source": [
        "Looking ahead to working with neural networks, let's prepare one additional variation of the label data.  Let's make these labels, rather than each being an integer value from 0-9, be a set of 10 binary values, one for each class.  This is sometimes called a 1-of-n encoding, and it makes working with Neural Networks easier, as there will be one output node for each class."
      ]
    },
    {
      "cell_type": "code",
      "metadata": {
        "id": "Vol9pdKrAFMU",
        "colab_type": "code",
        "colab": {
          "base_uri": "https://localhost:8080/",
          "height": 34
        },
        "outputId": "151596e5-cd34-4094-aec9-96779e45a7eb"
      },
      "source": [
        "def binarizeY(data):\n",
        "    binarized_data = np.zeros((data.size,10))\n",
        "    for j in range(0,data.size):\n",
        "        feature = data[j:j+1]\n",
        "        i = feature.astype(np.int64) \n",
        "        binarized_data[j,i]=1\n",
        "    return binarized_data\n",
        "train_labels_b = binarizeY(train_labels)\n",
        "test_labels_b = binarizeY(test_labels)\n",
        "numClasses = train_labels_b[1].size\n",
        "print('Classes = ', numClasses)"
      ],
      "execution_count": 5,
      "outputs": [
        {
          "output_type": "stream",
          "text": [
            "Classes =  10\n"
          ],
          "name": "stdout"
        }
      ]
    },
    {
      "cell_type": "markdown",
      "metadata": {
        "id": "B8Sk7J12AFMX",
        "colab_type": "text"
      },
      "source": [
        "Lets start with a KNN model to establish a baseline accuracy.\n",
        "\n",
        "Exercise: You've seen a number of different classification algorithms (e.g. naive bayes, decision trees, random forests, logistic regression) at this point.  How does KNN scalability and accuracy with respect to the size of the training dataset compare to those other algorithms?  "
      ]
    },
    {
      "cell_type": "code",
      "metadata": {
        "id": "fv78m_BzAFMX",
        "colab_type": "code",
        "colab": {
          "base_uri": "https://localhost:8080/",
          "height": 68
        },
        "outputId": "a09d60ad-9e7c-4d5b-e450-52e17d51560c"
      },
      "source": [
        "neighbors = 1\n",
        "knn = KNeighborsClassifier(neighbors)\n",
        "# we'll be waiting quite a while if we use 60K examples, so let's cut it down.  You may want to run the full 60K on your own later to see what the accuracy is.\n",
        "mini_train_data, mini_train_labels = X[:numExamples], Y[:numExamples] \n",
        "start_time = time.time()\n",
        "knn.fit(mini_train_data, mini_train_labels)\n",
        "print('Train time = ', time.time() - start_time)\n",
        "start_time = time.time()\n",
        "accuracy = knn.score(test_data, test_labels)\n",
        "print('Accuracy = ', accuracy)\n",
        "print('Prediction time = ', time.time() - start_time)"
      ],
      "execution_count": 6,
      "outputs": [
        {
          "output_type": "stream",
          "text": [
            "Train time =  0.07694482803344727\n",
            "Accuracy =  0.9065\n",
            "Prediction time =  8.050466537475586\n"
          ],
          "name": "stdout"
        }
      ]
    },
    {
      "cell_type": "markdown",
      "metadata": {
        "id": "gADjQHnlAFMb",
        "colab_type": "text"
      },
      "source": [
        "Alright, now that we have a simple baseline, let's start working in Theano.  Before we jump to multi-layer neural networks though, let's train a logistic regression model to make certain we're using Theano correctly. \n",
        "\n",
        "Recall from Josh's regression lecture the four key components: (1) parameters, (2) model, (3) cost function, and (4) objective. "
      ]
    },
    {
      "cell_type": "code",
      "metadata": {
        "id": "8YegO6g5AFMb",
        "colab_type": "code",
        "colab": {}
      },
      "source": [
        "## (1) Parameters \n",
        "# Initialize the weights to small, but non-zero, values.\n",
        "w = theano.shared(np.asarray((np.random.randn(*(numFeatures, numClasses))*.01)))"
      ],
      "execution_count": 0,
      "outputs": []
    },
    {
      "cell_type": "markdown",
      "metadata": {
        "id": "MgHue57JAFMe",
        "colab_type": "text"
      },
      "source": [
        "Two notes relevant at this point:\n",
        "\n",
        "First, logistic regression can be thought of as a neural network with no hidden layers. The output values are just the dot product of the inputs and the edge weights.\n",
        "\n",
        "Second, we have 10 classes. We can either train separate one vs all classifiers using sigmoid activation, which would be a hassle, or we can use the softmax activation, which is essentially a multi-class version of sigmoid. We'll use Theano's built-in implementation of softmax."
      ]
    },
    {
      "cell_type": "code",
      "metadata": {
        "id": "P3rgg-gQAFMe",
        "colab_type": "code",
        "colab": {}
      },
      "source": [
        "## (2) Model\n",
        "# Theano objects accessed with standard Python variables\n",
        "X = T.matrix()\n",
        "Y = T.matrix()\n",
        "\n",
        "def model(X, w):\n",
        "    return T.nnet.softmax(T.dot(X, w))\n",
        "y_hat = model(X, w)"
      ],
      "execution_count": 0,
      "outputs": []
    },
    {
      "cell_type": "markdown",
      "metadata": {
        "id": "wTKoDOKcAFMg",
        "colab_type": "text"
      },
      "source": [
        "We'll use cross-entropy as a cost function.  Cross entropy only considers the error between the true class and the prediction, and not the errors for the false classes.  This tends to cause the network to converge faster.  We'll use Theano's built-in cross entropy function."
      ]
    },
    {
      "cell_type": "code",
      "metadata": {
        "id": "EvmQU0WGAFMh",
        "colab_type": "code",
        "colab": {}
      },
      "source": [
        "## (3) Cost function\n",
        "cost = T.mean(T.nnet.categorical_crossentropy(y_hat, Y))"
      ],
      "execution_count": 0,
      "outputs": []
    },
    {
      "cell_type": "markdown",
      "metadata": {
        "id": "SEivxWBhAFMi",
        "colab_type": "text"
      },
      "source": [
        "The objective is minimize the cost, and to do that we'll use batch gradient descent.\n",
        "\n",
        "Exercise: What are the differences between batch, stochastic, and mini-batch gradient descent?  What are the implications of each for working on large datasets?\n",
        "\n",
        "We'll use Theano's built-in gradient function.  Exercise: Do you recall from Josh's lecture what the gradient is for beta in logistic regression?"
      ]
    },
    {
      "cell_type": "code",
      "metadata": {
        "id": "EZch81A6AFMj",
        "colab_type": "code",
        "colab": {
          "base_uri": "https://localhost:8080/",
          "height": 918
        },
        "outputId": "c77e415b-c3c9-4fed-8bb9-50f6195dc851"
      },
      "source": [
        "## (4) Objective (and solver)\n",
        "\n",
        "alpha = 0.01\n",
        "gradient = T.grad(cost=cost, wrt=w) \n",
        "update = [[w, w - gradient * alpha]] \n",
        "train = theano.function(inputs=[X, Y], outputs=cost, updates=update, allow_input_downcast=True) # computes cost, then runs update\n",
        "y_pred = T.argmax(y_hat, axis=1) # select largest probability as prediction\n",
        "predict = theano.function(inputs=[X], outputs=y_pred, allow_input_downcast=True)\n",
        "\n",
        "def gradientDescent(epochs):\n",
        "    trainTime = 0.0\n",
        "    predictTime = 0.0\n",
        "    for i in range(epochs):\n",
        "        start_time = time.time()\n",
        "        cost = train(train_data[0:len(train_data)], train_labels_b[0:len(train_data)])\n",
        "        trainTime =  trainTime + (time.time() - start_time)\n",
        "        print('accuracy = ', (i+1, np.mean(np.argmax(test_labels_b, axis=1) == predict(test_data))))\n",
        "    print('train time = ', trainTime)\n",
        "\n",
        "gradientDescent(50)\n",
        "\n",
        "start_time = time.time()\n",
        "predict(test_data)   \n",
        "print('predict time = ', (time.time() - start_time))"
      ],
      "execution_count": 10,
      "outputs": [
        {
          "output_type": "stream",
          "text": [
            "WARNING (theano.tensor.blas): We did not find a dynamic library in the library_dir of the library we use for blas. If you use ATLAS, make sure to compile it with dynamics library.\n"
          ],
          "name": "stderr"
        },
        {
          "output_type": "stream",
          "text": [
            "accuracy =  (1, 0.097)\n",
            "accuracy =  (2, 0.1245)\n",
            "accuracy =  (3, 0.1555)\n",
            "accuracy =  (4, 0.183)\n",
            "accuracy =  (5, 0.2195)\n",
            "accuracy =  (6, 0.249)\n",
            "accuracy =  (7, 0.283)\n",
            "accuracy =  (8, 0.3075)\n",
            "accuracy =  (9, 0.342)\n",
            "accuracy =  (10, 0.3645)\n",
            "accuracy =  (11, 0.3905)\n",
            "accuracy =  (12, 0.4105)\n",
            "accuracy =  (13, 0.4265)\n",
            "accuracy =  (14, 0.447)\n",
            "accuracy =  (15, 0.4635)\n",
            "accuracy =  (16, 0.4765)\n",
            "accuracy =  (17, 0.488)\n",
            "accuracy =  (18, 0.501)\n",
            "accuracy =  (19, 0.513)\n",
            "accuracy =  (20, 0.5235)\n",
            "accuracy =  (21, 0.535)\n",
            "accuracy =  (22, 0.543)\n",
            "accuracy =  (23, 0.552)\n",
            "accuracy =  (24, 0.5575)\n",
            "accuracy =  (25, 0.5645)\n",
            "accuracy =  (26, 0.5695)\n",
            "accuracy =  (27, 0.5745)\n",
            "accuracy =  (28, 0.5855)\n",
            "accuracy =  (29, 0.5895)\n",
            "accuracy =  (30, 0.5985)\n",
            "accuracy =  (31, 0.6045)\n",
            "accuracy =  (32, 0.609)\n",
            "accuracy =  (33, 0.612)\n",
            "accuracy =  (34, 0.6155)\n",
            "accuracy =  (35, 0.6195)\n",
            "accuracy =  (36, 0.624)\n",
            "accuracy =  (37, 0.626)\n",
            "accuracy =  (38, 0.6285)\n",
            "accuracy =  (39, 0.631)\n",
            "accuracy =  (40, 0.6325)\n",
            "accuracy =  (41, 0.635)\n",
            "accuracy =  (42, 0.64)\n",
            "accuracy =  (43, 0.642)\n",
            "accuracy =  (44, 0.6465)\n",
            "accuracy =  (45, 0.65)\n",
            "accuracy =  (46, 0.652)\n",
            "accuracy =  (47, 0.654)\n",
            "accuracy =  (48, 0.657)\n",
            "accuracy =  (49, 0.6595)\n",
            "accuracy =  (50, 0.662)\n",
            "train time =  0.6486196517944336\n",
            "predict time =  0.009496212005615234\n"
          ],
          "name": "stdout"
        }
      ]
    },
    {
      "cell_type": "markdown",
      "metadata": {
        "id": "uS3i6Wx9AFMl",
        "colab_type": "text"
      },
      "source": [
        "Exercise:  What do you expect to happen if we convert batch gradient descent to stochastic gradient descent?  Why?\n",
        "\n",
        "Let's try it..."
      ]
    },
    {
      "cell_type": "code",
      "metadata": {
        "id": "3kW2IDUVAFMm",
        "colab_type": "code",
        "colab": {
          "base_uri": "https://localhost:8080/",
          "height": 901
        },
        "outputId": "7cec4f7a-bd69-4acb-b96e-db9b22304350"
      },
      "source": [
        "## (1) Parameters\n",
        "w = theano.shared(np.asarray((np.random.randn(*(numFeatures, numClasses))*.01)))\n",
        "\n",
        "## (2) Model\n",
        "X = T.matrix()\n",
        "Y = T.matrix()\n",
        "def model(X, w):\n",
        "    return T.nnet.softmax(T.dot(X, w))\n",
        "y_hat = model(X, w)\n",
        "\n",
        "## (3) Cost\n",
        "cost = T.mean(T.nnet.categorical_crossentropy(y_hat, Y))\n",
        "\n",
        "## (4) Objective\n",
        "alpha = 0.01\n",
        "gradient = T.grad(cost=cost, wrt=w)\n",
        "update = [[w, w - gradient * alpha]] \n",
        "train = theano.function(inputs=[X, Y], outputs=cost, updates=update, allow_input_downcast=True) \n",
        "y_pred = T.argmax(y_hat, axis=1) \n",
        "predict = theano.function(inputs=[X], outputs=y_pred, allow_input_downcast=True)\n",
        "\n",
        "miniBatchSize = 1 \n",
        "def gradientDescentStochastic(epochs):\n",
        "    trainTime = 0.0\n",
        "    predictTime = 0.0\n",
        "    start_time = time.time()\n",
        "    for i in range(epochs):       \n",
        "        for start, end in zip(range(0, len(train_data), miniBatchSize), range(miniBatchSize, len(train_data), miniBatchSize)):\n",
        "            cost = train(train_data[start:end], train_labels_b[start:end])\n",
        "        trainTime =  trainTime + (time.time() - start_time)\n",
        "        print('accuracy = ', (i+1, np.mean(np.argmax(test_labels_b, axis=1) == predict(test_data))))\n",
        "    print('train time = ', trainTime)\n",
        "    \n",
        "gradientDescentStochastic(50)\n",
        "\n",
        "start_time = time.time()\n",
        "predict(test_data)   \n",
        "print('predict time = ', (time.time() - start_time))"
      ],
      "execution_count": 11,
      "outputs": [
        {
          "output_type": "stream",
          "text": [
            "accuracy =  (1, 0.841)\n",
            "accuracy =  (2, 0.8665)\n",
            "accuracy =  (3, 0.872)\n",
            "accuracy =  (4, 0.8755)\n",
            "accuracy =  (5, 0.8775)\n",
            "accuracy =  (6, 0.8775)\n",
            "accuracy =  (7, 0.878)\n",
            "accuracy =  (8, 0.8795)\n",
            "accuracy =  (9, 0.88)\n",
            "accuracy =  (10, 0.879)\n",
            "accuracy =  (11, 0.88)\n",
            "accuracy =  (12, 0.8815)\n",
            "accuracy =  (13, 0.881)\n",
            "accuracy =  (14, 0.8795)\n",
            "accuracy =  (15, 0.8795)\n",
            "accuracy =  (16, 0.879)\n",
            "accuracy =  (17, 0.8795)\n",
            "accuracy =  (18, 0.8795)\n",
            "accuracy =  (19, 0.879)\n",
            "accuracy =  (20, 0.879)\n",
            "accuracy =  (21, 0.8795)\n",
            "accuracy =  (22, 0.879)\n",
            "accuracy =  (23, 0.879)\n",
            "accuracy =  (24, 0.8785)\n",
            "accuracy =  (25, 0.88)\n",
            "accuracy =  (26, 0.8795)\n",
            "accuracy =  (27, 0.8795)\n",
            "accuracy =  (28, 0.88)\n",
            "accuracy =  (29, 0.88)\n",
            "accuracy =  (30, 0.8805)\n",
            "accuracy =  (31, 0.881)\n",
            "accuracy =  (32, 0.8805)\n",
            "accuracy =  (33, 0.88)\n",
            "accuracy =  (34, 0.8795)\n",
            "accuracy =  (35, 0.8785)\n",
            "accuracy =  (36, 0.8785)\n",
            "accuracy =  (37, 0.8795)\n",
            "accuracy =  (38, 0.879)\n",
            "accuracy =  (39, 0.879)\n",
            "accuracy =  (40, 0.879)\n",
            "accuracy =  (41, 0.8795)\n",
            "accuracy =  (42, 0.8795)\n",
            "accuracy =  (43, 0.879)\n",
            "accuracy =  (44, 0.8795)\n",
            "accuracy =  (45, 0.879)\n",
            "accuracy =  (46, 0.879)\n",
            "accuracy =  (47, 0.8795)\n",
            "accuracy =  (48, 0.879)\n",
            "accuracy =  (49, 0.8785)\n",
            "accuracy =  (50, 0.8785)\n",
            "train time =  143.6857135295868\n",
            "predict time =  0.005232572555541992\n"
          ],
          "name": "stdout"
        }
      ]
    },
    {
      "cell_type": "markdown",
      "metadata": {
        "id": "lANSdPoNAFMo",
        "colab_type": "text"
      },
      "source": [
        "Exercise: What do you expect to happen if you switch the batch size to be great than 1 (i.e. mini-batch)?  Why?\n",
        "\n",
        "Try it for a few values..."
      ]
    },
    {
      "cell_type": "code",
      "metadata": {
        "id": "S0G6bbKvAFMo",
        "colab_type": "code",
        "colab": {
          "base_uri": "https://localhost:8080/",
          "height": 901
        },
        "outputId": "6a541623-2a6e-4260-b5bb-a8c0da6c5171"
      },
      "source": [
        "## (1) Parameters\n",
        "w = theano.shared(np.asarray((np.random.randn(*(numFeatures, numClasses))*.01)))\n",
        "\n",
        "## (2) Model\n",
        "X = T.matrix()\n",
        "Y = T.matrix()\n",
        "def model(X, w):\n",
        "    return T.nnet.softmax(T.dot(X, w))\n",
        "y_hat = model(X, w)\n",
        "\n",
        "## (3) Cost\n",
        "cost = T.mean(T.nnet.categorical_crossentropy(y_hat, Y))\n",
        "\n",
        "## (4) Objective\n",
        "alpha = 0.01\n",
        "gradient = T.grad(cost=cost, wrt=w)\n",
        "update = [[w, w - gradient * alpha]] \n",
        "train = theano.function(inputs=[X, Y], outputs=cost, updates=update, allow_input_downcast=True) \n",
        "y_pred = T.argmax(y_hat, axis=1) \n",
        "predict = theano.function(inputs=[X], outputs=y_pred, allow_input_downcast=True)\n",
        "\n",
        "miniBatchSize = 10 \n",
        "def gradientDescentStochastic(epochs):\n",
        "    trainTime = 0.0\n",
        "    predictTime = 0.0\n",
        "    start_time = time.time()\n",
        "    for i in range(epochs):       \n",
        "        for start, end in zip(range(0, len(train_data), miniBatchSize), range(miniBatchSize, len(train_data), miniBatchSize)):\n",
        "            cost = train(train_data[start:end], train_labels_b[start:end])\n",
        "        trainTime =  trainTime + (time.time() - start_time)\n",
        "        print('accuracy = ', (i+1, np.mean(np.argmax(test_labels_b, axis=1) == predict(test_data))))     \n",
        "    print('train time = ', trainTime)\n",
        "    \n",
        "gradientDescentStochastic(50)\n",
        "\n",
        "start_time = time.time()\n",
        "predict(test_data)   \n",
        "print('predict time = ', (time.time() - start_time))"
      ],
      "execution_count": 12,
      "outputs": [
        {
          "output_type": "stream",
          "text": [
            "accuracy =  (1, 0.788)\n",
            "accuracy =  (2, 0.8245)\n",
            "accuracy =  (3, 0.8395)\n",
            "accuracy =  (4, 0.851)\n",
            "accuracy =  (5, 0.8565)\n",
            "accuracy =  (6, 0.861)\n",
            "accuracy =  (7, 0.865)\n",
            "accuracy =  (8, 0.867)\n",
            "accuracy =  (9, 0.8685)\n",
            "accuracy =  (10, 0.869)\n",
            "accuracy =  (11, 0.873)\n",
            "accuracy =  (12, 0.875)\n",
            "accuracy =  (13, 0.8755)\n",
            "accuracy =  (14, 0.876)\n",
            "accuracy =  (15, 0.8775)\n",
            "accuracy =  (16, 0.8765)\n",
            "accuracy =  (17, 0.8785)\n",
            "accuracy =  (18, 0.88)\n",
            "accuracy =  (19, 0.88)\n",
            "accuracy =  (20, 0.88)\n",
            "accuracy =  (21, 0.8805)\n",
            "accuracy =  (22, 0.881)\n",
            "accuracy =  (23, 0.8805)\n",
            "accuracy =  (24, 0.881)\n",
            "accuracy =  (25, 0.882)\n",
            "accuracy =  (26, 0.8825)\n",
            "accuracy =  (27, 0.8825)\n",
            "accuracy =  (28, 0.8835)\n",
            "accuracy =  (29, 0.8835)\n",
            "accuracy =  (30, 0.883)\n",
            "accuracy =  (31, 0.8825)\n",
            "accuracy =  (32, 0.883)\n",
            "accuracy =  (33, 0.883)\n",
            "accuracy =  (34, 0.883)\n",
            "accuracy =  (35, 0.8825)\n",
            "accuracy =  (36, 0.882)\n",
            "accuracy =  (37, 0.882)\n",
            "accuracy =  (38, 0.882)\n",
            "accuracy =  (39, 0.883)\n",
            "accuracy =  (40, 0.8835)\n",
            "accuracy =  (41, 0.8835)\n",
            "accuracy =  (42, 0.8835)\n",
            "accuracy =  (43, 0.883)\n",
            "accuracy =  (44, 0.8825)\n",
            "accuracy =  (45, 0.8825)\n",
            "accuracy =  (46, 0.883)\n",
            "accuracy =  (47, 0.8835)\n",
            "accuracy =  (48, 0.883)\n",
            "accuracy =  (49, 0.8835)\n",
            "accuracy =  (50, 0.8835)\n",
            "train time =  35.79392194747925\n",
            "predict time =  0.005730152130126953\n"
          ],
          "name": "stdout"
        }
      ]
    },
    {
      "cell_type": "markdown",
      "metadata": {
        "id": "2rnfuHmkAFMr",
        "colab_type": "text"
      },
      "source": [
        "#### PART 2: Multi-layer Neural Networks"
      ]
    },
    {
      "cell_type": "markdown",
      "metadata": {
        "id": "5wTgPFgVAFMr",
        "colab_type": "text"
      },
      "source": [
        "As we start to get further into Neural Networks, if you'd like to take time on your own for an in-depth introduction on the state of the art in the topic, check out this excellent 1-day tutorial from KDD2014:\n",
        "\n",
        "Part 1: http://videolectures.net/kdd2014_bengio_deep_learning/\n",
        "\n",
        "Part 2: http://videolectures.net/tcmm2014_taylor_deep_learning/"
      ]
    },
    {
      "cell_type": "markdown",
      "metadata": {
        "id": "KOXEaN4qAFMs",
        "colab_type": "text"
      },
      "source": [
        "---------\n",
        "\n",
        "Let's take our implementation of logistic regression (which recall is in fact a single layer neural network), and add a hidden layer, making it a two layer neural network.  Because we have a hidden layer, we will now train the model using backpropagation.\n",
        "\n",
        "Exercise: How do you expect this model to compare to KNN and logistic regression in terms of train time and accuracy?  Why?\n",
        "\n",
        "Let's try it out..."
      ]
    },
    {
      "cell_type": "code",
      "metadata": {
        "id": "R4fPLkwJAFMs",
        "colab_type": "code",
        "colab": {
          "base_uri": "https://localhost:8080/",
          "height": 901
        },
        "outputId": "2a15bbe2-4020-41ac-f81e-16e5ec3dbf39"
      },
      "source": [
        "## (1) Parameters\n",
        "numHiddenNodes = 600 \n",
        "w_1 = theano.shared(np.asarray((np.random.randn(*(numFeatures, numHiddenNodes))*.01)))\n",
        "w_2 = theano.shared(np.asarray((np.random.randn(*(numHiddenNodes, numClasses))*.01)))\n",
        "params = [w_1, w_2]\n",
        "\n",
        "\n",
        "## (2) Model\n",
        "X = T.matrix()\n",
        "Y = T.matrix()\n",
        "# Two notes:\n",
        "# First, feed forward is the composition of layers (dot product + activation function)\n",
        "# Second, activation on the hidden layer still uses sigmoid\n",
        "def model(X, w_1, w_2):\n",
        "    return T.nnet.softmax(T.dot(T.nnet.sigmoid(T.dot(X, w_1)), w_2))\n",
        "y_hat = model(X, w_1, w_2)\n",
        "\n",
        "\n",
        "## (3) Cost...same as logistic regression\n",
        "cost = T.mean(T.nnet.categorical_crossentropy(y_hat, Y))\n",
        "\n",
        "\n",
        "## (4) Minimization.  Update rule changes to backpropagation.\n",
        "alpha = 0.01\n",
        "def backprop(cost, w):\n",
        "    grads = T.grad(cost=cost, wrt=w)\n",
        "    updates = []\n",
        "    for w1, grad in zip(w, grads):\n",
        "        updates.append([w1, w1 - grad * alpha])\n",
        "    return updates\n",
        "update = backprop(cost, params)\n",
        "train = theano.function(inputs=[X, Y], outputs=cost, updates=update, allow_input_downcast=True)\n",
        "y_pred = T.argmax(y_hat, axis=1)\n",
        "predict = theano.function(inputs=[X], outputs=y_pred, allow_input_downcast=True)\n",
        "\n",
        "miniBatchSize = 1\n",
        "def gradientDescentStochastic(epochs):\n",
        "    trainTime = 0.0\n",
        "    predictTime = 0.0\n",
        "    start_time = time.time()\n",
        "    for i in range(epochs):\n",
        "        for start, end in zip(range(0, len(train_data), miniBatchSize), range(miniBatchSize, len(train_data), miniBatchSize)):\n",
        "            cost = train(train_data[start:end], train_labels_b[start:end])\n",
        "        trainTime =  trainTime + (time.time() - start_time)\n",
        "        print('%d) accuracy = %.4f' %(i+1, np.mean(np.argmax(test_labels_b, axis=1) == predict(test_data))))\n",
        "    print('train time = %.2f' %(trainTime))\n",
        "\n",
        "gradientDescentStochastic(50)\n",
        "\n",
        "start_time = time.time()\n",
        "predict(test_data)   \n",
        "print('predict time = %.2f' %(time.time() - start_time))"
      ],
      "execution_count": 13,
      "outputs": [
        {
          "output_type": "stream",
          "text": [
            "1) accuracy = 0.3500\n",
            "2) accuracy = 0.6240\n",
            "3) accuracy = 0.8025\n",
            "4) accuracy = 0.8415\n",
            "5) accuracy = 0.8545\n",
            "6) accuracy = 0.8650\n",
            "7) accuracy = 0.8700\n",
            "8) accuracy = 0.8745\n",
            "9) accuracy = 0.8810\n",
            "10) accuracy = 0.8825\n",
            "11) accuracy = 0.8855\n",
            "12) accuracy = 0.8875\n",
            "13) accuracy = 0.8910\n",
            "14) accuracy = 0.8885\n",
            "15) accuracy = 0.8865\n",
            "16) accuracy = 0.8855\n",
            "17) accuracy = 0.8870\n",
            "18) accuracy = 0.8870\n",
            "19) accuracy = 0.8860\n",
            "20) accuracy = 0.8845\n",
            "21) accuracy = 0.8840\n",
            "22) accuracy = 0.8850\n",
            "23) accuracy = 0.8845\n",
            "24) accuracy = 0.8840\n",
            "25) accuracy = 0.8830\n",
            "26) accuracy = 0.8825\n",
            "27) accuracy = 0.8820\n",
            "28) accuracy = 0.8820\n",
            "29) accuracy = 0.8815\n",
            "30) accuracy = 0.8810\n",
            "31) accuracy = 0.8800\n",
            "32) accuracy = 0.8800\n",
            "33) accuracy = 0.8805\n",
            "34) accuracy = 0.8810\n",
            "35) accuracy = 0.8805\n",
            "36) accuracy = 0.8800\n",
            "37) accuracy = 0.8795\n",
            "38) accuracy = 0.8790\n",
            "39) accuracy = 0.8780\n",
            "40) accuracy = 0.8785\n",
            "41) accuracy = 0.8785\n",
            "42) accuracy = 0.8785\n",
            "43) accuracy = 0.8790\n",
            "44) accuracy = 0.8785\n",
            "45) accuracy = 0.8780\n",
            "46) accuracy = 0.8770\n",
            "47) accuracy = 0.8765\n",
            "48) accuracy = 0.8760\n",
            "49) accuracy = 0.8760\n",
            "50) accuracy = 0.8760\n",
            "train time = 2833.07\n",
            "predict time = 0.11\n"
          ],
          "name": "stdout"
        }
      ]
    },
    {
      "cell_type": "code",
      "metadata": {
        "id": "TGoQoOEIAFMw",
        "colab_type": "code",
        "colab": {
          "base_uri": "https://localhost:8080/",
          "height": 391
        },
        "outputId": "a60d76e7-f373-46fd-f8ca-174b572cd334"
      },
      "source": [
        "## (1) Parameters\n",
        "numHiddenNodes = 600 \n",
        "w_1 = theano.shared(np.asarray((np.random.randn(*(numFeatures, numHiddenNodes))*.01)))\n",
        "w_2 = theano.shared(np.asarray((np.random.randn(*(numHiddenNodes, numClasses))*.01)))\n",
        "params = [w_1, w_2]\n",
        "\n",
        "\n",
        "## (2) Model\n",
        "X = T.matrix()\n",
        "Y = T.matrix()\n",
        "# Two notes:\n",
        "# First, feed forward is the composition of layers (dot product + activation function)\n",
        "# Second, activation on the hidden layer still uses sigmoid\n",
        "def model(X, w_1, w_2):\n",
        "    return T.nnet.softmax(T.dot(T.nnet.sigmoid(T.dot(X, w_1)), w_2))\n",
        "y_hat = model(X, w_1, w_2)\n",
        "\n",
        "\n",
        "## (3) Cost...same as logistic regression\n",
        "cost = T.mean(T.nnet.categorical_crossentropy(y_hat, Y))\n",
        "\n",
        "\n",
        "## (4) Minimization.  Update rule changes to backpropagation.\n",
        "alpha = 0.01\n",
        "def backprop(cost, w):\n",
        "    grads = T.grad(cost=cost, wrt=w)\n",
        "    updates = []\n",
        "    for w1, grad in zip(w, grads):\n",
        "        updates.append([w1, w1 - grad * alpha])\n",
        "    return updates\n",
        "update = backprop(cost, params)\n",
        "train = theano.function(inputs=[X, Y], outputs=cost, updates=update, allow_input_downcast=True)\n",
        "y_pred = T.argmax(y_hat, axis=1)\n",
        "predict = theano.function(inputs=[X], outputs=y_pred, allow_input_downcast=True)\n",
        "\n",
        "miniBatchSize = 1\n",
        "def gradientDescentStochastic(epochs):\n",
        "    trainTime = 0.0\n",
        "    predictTime = 0.0\n",
        "    start_time = time.time()\n",
        "    for i in range(epochs):\n",
        "        for start, end in zip(range(0, len(train_data), miniBatchSize), range(miniBatchSize, len(train_data), miniBatchSize)):\n",
        "            cost = train(train_data[start:end], train_labels_b[start:end])\n",
        "        trainTime =  trainTime + (time.time() - start_time)\n",
        "        print('%d) accuracy = %.4f' %(i+1, np.mean(np.argmax(test_labels_b, axis=1) == predict(test_data))))\n",
        "    print('train time = %.2f' %(trainTime))\n",
        "\n",
        "gradientDescentStochastic(20)\n",
        "\n",
        "start_time = time.time()\n",
        "predict(test_data)   \n",
        "print('predict time = %.2f' %(time.time() - start_time))"
      ],
      "execution_count": 15,
      "outputs": [
        {
          "output_type": "stream",
          "text": [
            "1) accuracy = 0.3520\n",
            "2) accuracy = 0.6265\n",
            "3) accuracy = 0.8035\n",
            "4) accuracy = 0.8385\n",
            "5) accuracy = 0.8525\n",
            "6) accuracy = 0.8630\n",
            "7) accuracy = 0.8700\n",
            "8) accuracy = 0.8735\n",
            "9) accuracy = 0.8795\n",
            "10) accuracy = 0.8815\n",
            "11) accuracy = 0.8840\n",
            "12) accuracy = 0.8860\n",
            "13) accuracy = 0.8865\n",
            "14) accuracy = 0.8860\n",
            "15) accuracy = 0.8860\n",
            "16) accuracy = 0.8845\n",
            "17) accuracy = 0.8835\n",
            "18) accuracy = 0.8845\n",
            "19) accuracy = 0.8845\n",
            "20) accuracy = 0.8835\n",
            "train time = 461.19\n",
            "predict time = 0.11\n"
          ],
          "name": "stdout"
        }
      ]
    },
    {
      "cell_type": "markdown",
      "metadata": {
        "id": "GQ5k9WwWAFM0",
        "colab_type": "text"
      },
      "source": [
        "Exercise: Change the number of nodes in the hidden layer?  What do you expect the impact to be?  What is the impact?  \n",
        "\n",
        "- As you increase # of nodes in hidden layer, computation time goes WAY up, but for no discernible benefit in accuracy"
      ]
    },
    {
      "cell_type": "markdown",
      "metadata": {
        "id": "RPOCCgIrAFM1",
        "colab_type": "text"
      },
      "source": [
        "--------\n",
        "\n",
        "As interest in networks with more layers and more complicated architechures has increased, a couple of tricks have emerged and become standard practice.  Let's look at two of those--rectifier activation and dropout noise."
      ]
    },
    {
      "cell_type": "markdown",
      "metadata": {
        "id": "-aL7uT32AFM2",
        "colab_type": "text"
      },
      "source": [
        "Exercise:  We saw an improvement from adding a hidden layer.  What do you expect to happen if a second hidden layer was added?  \n",
        "\n",
        "Let's try it..."
      ]
    },
    {
      "cell_type": "code",
      "metadata": {
        "id": "hX_SfIQNAFM3",
        "colab_type": "code",
        "colab": {
          "base_uri": "https://localhost:8080/",
          "height": 391
        },
        "outputId": "f1e42bc8-81f1-4527-edd8-b619ad01106c"
      },
      "source": [
        "## (1) Parms\n",
        "numHiddenNodes = 600 \n",
        "w_1 = theano.shared(np.asarray((np.random.randn(*(numFeatures, numHiddenNodes))*.01)))\n",
        "w_2 = theano.shared(np.asarray((np.random.randn(*(numHiddenNodes, numHiddenNodes))*.01)))\n",
        "w_3 = theano.shared(np.asarray((np.random.randn(*(numHiddenNodes, numClasses))*.01)))\n",
        "params = [w_1, w_2, w_3]\n",
        "\n",
        "## (2) Model\n",
        "X = T.matrix()\n",
        "Y = T.matrix()\n",
        "def model(X, w_1, w_2, w_3):\n",
        "    return T.nnet.softmax(T.dot(T.nnet.sigmoid(T.dot(T.nnet.sigmoid(T.dot(X, w_1)), w_2)), w_3))\n",
        "y_hat = model(X, w_1, w_2, w_3)\n",
        "\n",
        "\n",
        "## (3) Cost...same as logistic regression\n",
        "cost = T.mean(T.nnet.categorical_crossentropy(y_hat, Y))\n",
        "\n",
        "\n",
        "## (4) Minimization.  Update rule changes to backpropagation.\n",
        "alpha = 0.01\n",
        "def backprop(cost, w):\n",
        "    grads = T.grad(cost=cost, wrt=w)\n",
        "    updates = []\n",
        "    for w1, grad in zip(w, grads):\n",
        "        updates.append([w1, w1 - grad * alpha])\n",
        "    return updates\n",
        "update = backprop(cost, params)\n",
        "train = theano.function(inputs=[X, Y], outputs=cost, updates=update, allow_input_downcast=True)\n",
        "y_pred = T.argmax(y_hat, axis=1)\n",
        "predict = theano.function(inputs=[X], outputs=y_pred, allow_input_downcast=True)\n",
        "\n",
        "miniBatchSize = 1 \n",
        "def gradientDescentStochastic(epochs):\n",
        "    trainTime = 0.0\n",
        "    predictTime = 0.0\n",
        "    start_time = time.time()\n",
        "    for i in range(epochs):\n",
        "        for start, end in zip(range(0, len(train_data), miniBatchSize), range(miniBatchSize, len(train_data), miniBatchSize)):\n",
        "            cost = train(train_data[start:end], train_labels_b[start:end])\n",
        "        trainTime =  trainTime + (time.time() - start_time)\n",
        "        print('%d) accuracy = %.4f' %(i+1, np.mean(np.argmax(test_labels_b, axis=1) == predict(test_data))))\n",
        "    print('train time = %.2f' %(trainTime))\n",
        "\n",
        "gradientDescentStochastic(20)\n",
        "\n",
        "start_time = time.time()\n",
        "predict(test_data)   \n",
        "print('predict time = %.2f' %(time.time() - start_time))"
      ],
      "execution_count": 16,
      "outputs": [
        {
          "output_type": "stream",
          "text": [
            "1) accuracy = 0.1105\n",
            "2) accuracy = 0.1105\n",
            "3) accuracy = 0.1105\n",
            "4) accuracy = 0.0965\n",
            "5) accuracy = 0.0965\n",
            "6) accuracy = 0.0965\n",
            "7) accuracy = 0.1190\n",
            "8) accuracy = 0.1875\n",
            "9) accuracy = 0.1815\n",
            "10) accuracy = 0.2360\n",
            "11) accuracy = 0.2675\n",
            "12) accuracy = 0.2820\n",
            "13) accuracy = 0.2955\n",
            "14) accuracy = 0.3115\n",
            "15) accuracy = 0.3295\n",
            "16) accuracy = 0.3485\n",
            "17) accuracy = 0.3725\n",
            "18) accuracy = 0.3905\n",
            "19) accuracy = 0.4165\n",
            "20) accuracy = 0.4350\n",
            "train time = 1037.67\n",
            "predict time = 0.19\n"
          ],
          "name": "stdout"
        }
      ]
    },
    {
      "cell_type": "markdown",
      "metadata": {
        "id": "PI4IyviCAFM6",
        "colab_type": "text"
      },
      "source": [
        "#### Activation Revisted"
      ]
    },
    {
      "cell_type": "markdown",
      "metadata": {
        "id": "FGyIuhTsAFM6",
        "colab_type": "text"
      },
      "source": [
        "Let's look at a recent idea around activation closely associated with deep learning.  In 2010, in a paper published at NIPS (https://www.utc.fr/~bordesan/dokuwiki/_media/en/glorot10nipsworkshop.pdf), Yoshua Bengio showed that rectifier activation works better empirically than sigmoid activation when used in the hidden layers.  \n",
        "\n",
        "The rectifier activation is simple: f(x)=max(0,x).  Intuitively, the difference is that as a sigmoid activated node approaches 1 it stops learning even if error continues to be propagated to it, whereas the rectifier activated node continue to learn (at least in the positive direction).  It is not completely understood (per Yoshua Bengio) why this helps, but there are some theories being explored including as related to the benefits of sparse representations in networks. (http://www.iro.umontreal.ca/~bengioy/talks/KDD2014-tutorial.pdf).  Rectifiers also speed up training.\n",
        "\n",
        "Although the paper was published in 2010, the technique didn't gain widespread adoption until 2012 when members of Hinton's group spread the word, including with this Kaggle entry: http://blog.kaggle.com/2012/11/01/deep-learning-how-i-did-it-merck-1st-place-interview/\n",
        "\n",
        "Let's change the activation in our 2 layer network to rectifier and see what happens..."
      ]
    },
    {
      "cell_type": "code",
      "metadata": {
        "id": "u9Gj2sykAFM7",
        "colab_type": "code",
        "colab": {
          "base_uri": "https://localhost:8080/",
          "height": 901
        },
        "outputId": "d891e142-ef48-4d2e-a15a-4f13037c6912"
      },
      "source": [
        "## (1) Parms\n",
        "numHiddenNodes = 600 \n",
        "w_1 = theano.shared(np.asarray((np.random.randn(*(numFeatures, numHiddenNodes))*.01)))\n",
        "w_2 = theano.shared(np.asarray((np.random.randn(*(numHiddenNodes, numClasses))*.01)))\n",
        "params = [w_1, w_2]\n",
        "\n",
        "\n",
        "## (2) Model\n",
        "X = T.matrix()\n",
        "Y = T.matrix()\n",
        "\n",
        "def model(X, w_1, w_2):\n",
        "    return T.nnet.softmax(T.dot(T.maximum(T.dot(X, w_1), 0.), w_2))   # T.maximum here is the rectifier\n",
        "y_hat = model(X, w_1, w_2)\n",
        "\n",
        "\n",
        "## (3) Cost...same as logistic regression\n",
        "cost = T.mean(T.nnet.categorical_crossentropy(y_hat, Y))\n",
        "\n",
        "\n",
        "## (4) Minimization.  Update rule changes to backpropagation.\n",
        "alpha = 0.01\n",
        "def backprop(cost, w):\n",
        "    grads = T.grad(cost=cost, wrt=w)\n",
        "    updates = []\n",
        "    for w1, grad in zip(w, grads):\n",
        "        updates.append([w1, w1 - grad * alpha])\n",
        "    return updates\n",
        "update = backprop(cost, params)\n",
        "train = theano.function(inputs=[X, Y], outputs=cost, updates=update, allow_input_downcast=True)\n",
        "y_pred = T.argmax(y_hat, axis=1)\n",
        "predict = theano.function(inputs=[X], outputs=y_pred, allow_input_downcast=True)\n",
        "\n",
        "miniBatchSize = 1 \n",
        "def gradientDescentStochastic(epochs):\n",
        "    trainTime = 0.0\n",
        "    predictTime = 0.0\n",
        "    start_time = time.time()\n",
        "    for i in range(epochs):\n",
        "        for start, end in zip(range(0, len(train_data), miniBatchSize), range(miniBatchSize, len(train_data), miniBatchSize)):\n",
        "            cost = train(train_data[start:end], train_labels_b[start:end])\n",
        "        trainTime =  trainTime + (time.time() - start_time)\n",
        "        print('%d) accuracy = %.4f' %(i+1, np.mean(np.argmax(test_labels_b, axis=1) == predict(test_data))))\n",
        "    print('train time = %.2f' %(trainTime))\n",
        "\n",
        "gradientDescentStochastic(50)\n",
        "\n",
        "start_time = time.time()\n",
        "predict(test_data)   \n",
        "print('predict time = %.2f' %(time.time() - start_time))"
      ],
      "execution_count": 17,
      "outputs": [
        {
          "output_type": "stream",
          "text": [
            "1) accuracy = 0.8245\n",
            "2) accuracy = 0.8680\n",
            "3) accuracy = 0.8825\n",
            "4) accuracy = 0.8910\n",
            "5) accuracy = 0.8930\n",
            "6) accuracy = 0.8955\n",
            "7) accuracy = 0.8955\n",
            "8) accuracy = 0.8985\n",
            "9) accuracy = 0.9020\n",
            "10) accuracy = 0.9020\n",
            "11) accuracy = 0.9035\n",
            "12) accuracy = 0.9025\n",
            "13) accuracy = 0.9050\n",
            "14) accuracy = 0.9055\n",
            "15) accuracy = 0.9055\n",
            "16) accuracy = 0.9065\n",
            "17) accuracy = 0.9065\n",
            "18) accuracy = 0.9070\n",
            "19) accuracy = 0.9090\n",
            "20) accuracy = 0.9075\n",
            "21) accuracy = 0.9070\n",
            "22) accuracy = 0.9065\n",
            "23) accuracy = 0.9065\n",
            "24) accuracy = 0.9070\n",
            "25) accuracy = 0.9065\n",
            "26) accuracy = 0.9070\n",
            "27) accuracy = 0.9070\n",
            "28) accuracy = 0.9075\n",
            "29) accuracy = 0.9075\n",
            "30) accuracy = 0.9080\n",
            "31) accuracy = 0.9080\n",
            "32) accuracy = 0.9075\n",
            "33) accuracy = 0.9080\n",
            "34) accuracy = 0.9080\n",
            "35) accuracy = 0.9085\n",
            "36) accuracy = 0.9085\n",
            "37) accuracy = 0.9080\n",
            "38) accuracy = 0.9080\n",
            "39) accuracy = 0.9080\n",
            "40) accuracy = 0.9080\n",
            "41) accuracy = 0.9085\n",
            "42) accuracy = 0.9085\n",
            "43) accuracy = 0.9090\n",
            "44) accuracy = 0.9090\n",
            "45) accuracy = 0.9090\n",
            "46) accuracy = 0.9090\n",
            "47) accuracy = 0.9090\n",
            "48) accuracy = 0.9095\n",
            "49) accuracy = 0.9095\n",
            "50) accuracy = 0.9095\n",
            "train time = 2732.53\n",
            "predict time = 0.07\n"
          ],
          "name": "stdout"
        }
      ]
    },
    {
      "cell_type": "markdown",
      "metadata": {
        "id": "mpxBq3UeAFM9",
        "colab_type": "text"
      },
      "source": [
        "#### Maxout Activation"
      ]
    },
    {
      "cell_type": "markdown",
      "metadata": {
        "id": "Ccp7c9CPAFM9",
        "colab_type": "text"
      },
      "source": [
        "So rectifier activation worked great!  \n",
        "\n",
        "Exercise: try another type of activation called Maxout (or Max Pooling) activiation.  Maxout activation just selects the max input as the output.  Maxout is a type of pooling, a technique which performs particularly well for vision problems. For more background see: http://jmlr.org/proceedings/papers/v28/goodfellow13.pdf and http://www.quora.com/What-is-impact-of-different-pooling-methods-in-convolutional-neural-networks  "
      ]
    },
    {
      "cell_type": "markdown",
      "metadata": {
        "id": "g7JD9_ekAFM-",
        "colab_type": "text"
      },
      "source": [
        "#### Noise"
      ]
    },
    {
      "cell_type": "markdown",
      "metadata": {
        "id": "-2JPT8xbAFM-",
        "colab_type": "text"
      },
      "source": [
        "Previously when working with the MNIST data we saw a benefit in generalization from adding noise to the training data.  Let's try that again here, however this time with a trick for adding noise called 'Dropouts'.  The idea with dropouts is that instead of (or in addition to) adding noise to our inputs, we add noise by having each node return 0 with a certain probability during training.  This trick both improves generalization in large networks and speeds up training.\n",
        "\n",
        "Hinton introduced the idea in 2012 and gave an explanation of why it's similar to bagging (http://arxiv.org/pdf/1207.0580v1.pdf)\n",
        "\n",
        "Let's give it a try..."
      ]
    },
    {
      "cell_type": "code",
      "metadata": {
        "id": "aWPKMQx0AFM_",
        "colab_type": "code",
        "colab": {
          "base_uri": "https://localhost:8080/",
          "height": 391
        },
        "outputId": "ccd7db13-da97-4392-9f19-055c825f7fa1"
      },
      "source": [
        "from theano.sandbox.rng_mrg import MRG_RandomStreams as RandomStreams\n",
        "\n",
        "## (1) Parms\n",
        "numHiddenNodes = 600 \n",
        "w_1 = theano.shared(np.asarray((np.random.randn(*(numFeatures, numHiddenNodes))*.01)))\n",
        "w_2 = theano.shared(np.asarray((np.random.randn(*(numHiddenNodes, numClasses))*.01)))\n",
        "params = [w_1, w_2]\n",
        "\n",
        "\n",
        "## (2) Model\n",
        "X = T.matrix()\n",
        "Y = T.matrix()\n",
        "srng = RandomStreams()\n",
        "def dropout(X, p=0.):\n",
        "    if p > 0:\n",
        "        X *= srng.binomial(X.shape, p=1 - p)\n",
        "        X /= 1 - p\n",
        "    return X\n",
        "\n",
        "def model(X, w_1, w_2, p_1, p_2):\n",
        "    return T.nnet.softmax(T.dot(dropout(T.maximum(T.dot(dropout(X, p_1), w_1),0.), p_2), w_2))\n",
        "\n",
        "y_hat_train = model(X, w_1, w_2, 0.2, 0.5)\n",
        "y_hat_predict = model(X, w_1, w_2, 0., 0.)\n",
        "\n",
        "## (3) Cost...same as logistic regression\n",
        "cost = T.mean(T.nnet.categorical_crossentropy(y_hat_train, Y))\n",
        "\n",
        "## (4) Minimization.  Update rule changes to backpropagation.\n",
        "alpha = 0.01\n",
        "def backprop(cost, w):\n",
        "    grads = T.grad(cost=cost, wrt=w)\n",
        "    updates = []\n",
        "    for w1, grad in zip(w, grads):\n",
        "        updates.append([w1, w1 - grad * alpha])\n",
        "    return updates\n",
        "update = backprop(cost, params)\n",
        "train = theano.function(inputs=[X, Y], outputs=cost, updates=update, allow_input_downcast=True)\n",
        "y_pred = T.argmax(y_hat_predict, axis=1)\n",
        "predict = theano.function(inputs=[X], outputs=y_pred, allow_input_downcast=True)\n",
        "\n",
        "\n",
        "miniBatchSize = 1\n",
        "def gradientDescentStochastic(epochs):\n",
        "    trainTime = 0.0\n",
        "    predictTime = 0.0\n",
        "    start_time = time.time()\n",
        "    for i in range(epochs):\n",
        "        for start, end in zip(range(0, len(train_data), miniBatchSize), range(miniBatchSize, len(train_data), miniBatchSize)):\n",
        "            cost = train(train_data[start:end], train_labels_b[start:end])\n",
        "        trainTime =  trainTime + (time.time() - start_time)\n",
        "        print('%d) accuracy = %.4f' %(i+1, np.mean(np.argmax(test_labels_b, axis=1) == predict(test_data))))\n",
        "    print('train time = %.2f' %(trainTime))\n",
        "\n",
        "gradientDescentStochastic(20)\n",
        "\n",
        "start_time = time.time()\n",
        "predict(test_data)   \n",
        "print('predict time = %.2f' %(time.time() - start_time))"
      ],
      "execution_count": 18,
      "outputs": [
        {
          "output_type": "stream",
          "text": [
            "1) accuracy = 0.8145\n",
            "2) accuracy = 0.8680\n",
            "3) accuracy = 0.8885\n",
            "4) accuracy = 0.8935\n",
            "5) accuracy = 0.9000\n",
            "6) accuracy = 0.9055\n",
            "7) accuracy = 0.9050\n",
            "8) accuracy = 0.9090\n",
            "9) accuracy = 0.9140\n",
            "10) accuracy = 0.9170\n",
            "11) accuracy = 0.9150\n",
            "12) accuracy = 0.9225\n",
            "13) accuracy = 0.9245\n",
            "14) accuracy = 0.9235\n",
            "15) accuracy = 0.9245\n",
            "16) accuracy = 0.9205\n",
            "17) accuracy = 0.9235\n",
            "18) accuracy = 0.9220\n",
            "19) accuracy = 0.9285\n",
            "20) accuracy = 0.9300\n",
            "train time = 499.55\n",
            "predict time = 0.07\n"
          ],
          "name": "stdout"
        }
      ]
    },
    {
      "cell_type": "markdown",
      "metadata": {
        "id": "mnuAE9G9AFNB",
        "colab_type": "text"
      },
      "source": [
        "Let's try once again adding a second hidden layer..."
      ]
    },
    {
      "cell_type": "code",
      "metadata": {
        "id": "Rtx8bJdHAFNB",
        "colab_type": "code",
        "colab": {
          "base_uri": "https://localhost:8080/",
          "height": 391
        },
        "outputId": "5d6a4dd4-a3c3-4dc8-8bc4-b291a6ee41ff"
      },
      "source": [
        "from theano.sandbox.rng_mrg import MRG_RandomStreams as RandomStreams\n",
        "\n",
        "## (1) Parmeters\n",
        "numHiddenNodes = 600 \n",
        "w_1 = theano.shared(np.asarray((np.random.randn(*(numFeatures, numHiddenNodes))*.01)))\n",
        "w_2 = theano.shared(np.asarray((np.random.randn(*(numHiddenNodes, numHiddenNodes))*.01)))\n",
        "w_3 = theano.shared(np.asarray((np.random.randn(*(numHiddenNodes, numClasses))*.01)))\n",
        "params = [w_1, w_2, w_3]\n",
        "\n",
        "\n",
        "## (2) Model\n",
        "X = T.matrix()\n",
        "Y = T.matrix()\n",
        "\n",
        "srng = RandomStreams()\n",
        "def dropout(X, p=0.):\n",
        "    if p > 0:\n",
        "        X *= srng.binomial(X.shape, p=1 - p)\n",
        "        X /= 1 - p\n",
        "    return X\n",
        "\n",
        "def model(X, w_1, w_2, w_3, p_1, p_2, p_3):\n",
        "    return T.nnet.softmax(T.dot(dropout(T.maximum(T.dot(dropout(T.maximum(T.dot(dropout(X, p_1), w_1),0.), p_2), w_2),0.), p_3), w_3))\n",
        "\n",
        "y_hat_train = model(X, w_1, w_2, w_3, 0.2, 0.5,0.5)\n",
        "y_hat_predict = model(X, w_1, w_2, w_3, 0., 0.,0.)\n",
        "\n",
        "## (3) Cost...same as logistic regression\n",
        "cost = T.mean(T.nnet.categorical_crossentropy(y_hat_train, Y))\n",
        "\n",
        "\n",
        "## (4) Minimization.  Update rule changes to backpropagation.\n",
        "alpha = 0.01\n",
        "def backprop(cost, w):\n",
        "    grads = T.grad(cost=cost, wrt=w)\n",
        "    updates = []\n",
        "    for w1, grad in zip(w, grads):\n",
        "        updates.append([w1, w1 - grad * alpha])\n",
        "    return updates\n",
        "update = backprop(cost, params)\n",
        "train = theano.function(inputs=[X, Y], outputs=cost, updates=update, allow_input_downcast=True)\n",
        "y_pred = T.argmax(y_hat_predict, axis=1)\n",
        "predict = theano.function(inputs=[X], outputs=y_pred, allow_input_downcast=True)\n",
        "\n",
        "miniBatchSize = 1\n",
        "def gradientDescentStochastic(epochs):\n",
        "    trainTime = 0.0\n",
        "    predictTime = 0.0\n",
        "    start_time = time.time()\n",
        "    for i in range(epochs):\n",
        "        for start, end in zip(range(0, len(train_data), miniBatchSize), range(miniBatchSize, len(train_data), miniBatchSize)):\n",
        "            cost = train(train_data[start:end], train_labels_b[start:end])\n",
        "        trainTime =  trainTime + (time.time() - start_time)\n",
        "        print('%d) accuracy = %.4f' %(i+1, np.mean(np.argmax(test_labels_b, axis=1) == predict(test_data))))\n",
        "    print('train time = %.2f' %(trainTime))\n",
        "\n",
        "gradientDescentStochastic(20)\n",
        "\n",
        "start_time = time.time()\n",
        "predict(test_data)   \n",
        "print('predict time = %.2f' %(time.time() - start_time))"
      ],
      "execution_count": 19,
      "outputs": [
        {
          "output_type": "stream",
          "text": [
            "1) accuracy = 0.4955\n",
            "2) accuracy = 0.8025\n",
            "3) accuracy = 0.8510\n",
            "4) accuracy = 0.8735\n",
            "5) accuracy = 0.8700\n",
            "6) accuracy = 0.8805\n",
            "7) accuracy = 0.8930\n",
            "8) accuracy = 0.9105\n",
            "9) accuracy = 0.9060\n",
            "10) accuracy = 0.9000\n",
            "11) accuracy = 0.9145\n",
            "12) accuracy = 0.8925\n",
            "13) accuracy = 0.9185\n",
            "14) accuracy = 0.9240\n",
            "15) accuracy = 0.9245\n",
            "16) accuracy = 0.9085\n",
            "17) accuracy = 0.9220\n",
            "18) accuracy = 0.9190\n",
            "19) accuracy = 0.9260\n",
            "20) accuracy = 0.9205\n",
            "train time = 1127.64\n",
            "predict time = 0.12\n"
          ],
          "name": "stdout"
        }
      ]
    },
    {
      "cell_type": "markdown",
      "metadata": {
        "id": "rBm2O2xPAFNG",
        "colab_type": "text"
      },
      "source": [
        "#### Part 3: Convolutional Neural Nets"
      ]
    },
    {
      "cell_type": "markdown",
      "metadata": {
        "id": "5ABwCxpqAFNI",
        "colab_type": "text"
      },
      "source": [
        "Today, when the phrase 'deep learning' is used to describe a system, it is often a convolution neural network (or convonet).  The convonet architechture was largely developed in the late 90's at Bell Labs, but only very recently popularized.  It was developed for image recognition, and is described and implemented with 2d representations in mind.\n",
        "\n",
        "Geoffrey Hinton has an excellent two-part lecture on the topic:\n",
        "\n",
        "https://www.youtube.com/watch?v=6oD3t6u5EPs\n",
        "\n",
        "https://www.youtube.com/watch?v=fueIAeAsGzA\n",
        "\n",
        "Also, this code was partly taken from these tutorials, which are worth referring back to:\n",
        "\n",
        "http://deeplearning.net/tutorial/lenet.html\n",
        "\n",
        "http://ufldl.stanford.edu/tutorial/supervised/FeatureExtractionUsingConvolution/\n",
        "\n",
        "https://www.youtube.com/watch?v=S75EdAcXHKk\n",
        "\n",
        "http://danielnouri.org/notes/2014/12/17/using-convolutional-neural-nets-to-detect-facial-keypoints-tutorial/"
      ]
    },
    {
      "cell_type": "code",
      "metadata": {
        "id": "7EfnHf7dAFNJ",
        "colab_type": "code",
        "colab": {
          "base_uri": "https://localhost:8080/",
          "height": 221
        },
        "outputId": "f2531141-50f5-4e8a-807d-82c055c0facb"
      },
      "source": [
        "from theano.sandbox.rng_mrg import MRG_RandomStreams as RandomStreams\n",
        "from theano.tensor.nnet.conv import conv2d\n",
        "from theano.tensor.signal.pool import pool_2d\n",
        "\n",
        "## (1) Parameters\n",
        "numHiddenNodes = 600 \n",
        "patchWidth = 3\n",
        "patchHeight = 3\n",
        "featureMapsLayer1 = 32\n",
        "featureMapsLayer2 = 64\n",
        "featureMapsLayer3 = 128\n",
        "\n",
        "# For convonets, we will work in 2d rather than 1d.  The MNIST images are 28x28 in 2d.\n",
        "imageWidth = 28\n",
        "train_data = train_data.reshape(-1, 1, imageWidth, imageWidth)\n",
        "test_data = test_data.reshape(-1, 1, imageWidth, imageWidth)\n",
        "\n",
        "# Convolution layers.  \n",
        "w_1 = theano.shared(np.asarray((np.random.randn(*(featureMapsLayer1, 1, patchWidth, patchHeight))*.01)))\n",
        "w_2 = theano.shared(np.asarray((np.random.randn(*(featureMapsLayer2, featureMapsLayer1, patchWidth, patchHeight))*.01)))\n",
        "w_3 = theano.shared(np.asarray((np.random.randn(*(featureMapsLayer3, featureMapsLayer2, patchWidth, patchHeight))*.01)))\n",
        "\n",
        "# Fully connected NN. \n",
        "w_4 = theano.shared(np.asarray((np.random.randn(*(featureMapsLayer3 * 3 * 3, numHiddenNodes))*.01)))\n",
        "w_5 = theano.shared(np.asarray((np.random.randn(*(numHiddenNodes, numClasses))*.01)))\n",
        "params = [w_1, w_2, w_3, w_4, w_5]\n",
        "\n",
        "## (2) Model\n",
        "X = T.tensor4() # conv2d works with tensor4 type\n",
        "Y = T.matrix()\n",
        "\n",
        "srng = RandomStreams()\n",
        "def dropout(X, p=0.):\n",
        "    if p > 0:\n",
        "        X *= srng.binomial(X.shape, p=1 - p)\n",
        "        X /= 1 - p\n",
        "    return X\n",
        "\n",
        "# Theano provides built-in support for add convolutional layers\n",
        "def model(X, w_1, w_2, w_3, w_4, w_5, p_1, p_2):\n",
        "    l1 = dropout(pool_2d(T.maximum(conv2d(X, w_1, border_mode='full'),0.), (2, 2)), p_1)\n",
        "    l2 = dropout(pool_2d(T.maximum(conv2d(l1, w_2), 0.), (2, 2)), p_1)\n",
        "    l3 = dropout(T.flatten(pool_2d(T.maximum(conv2d(l2, w_3), 0.), (2, 2)), outdim=2), p_1) # flatten to switch back to 1d layers\n",
        "    l4 = dropout(T.maximum(T.dot(l3, w_4), 0.), p_2)\n",
        "    return T.nnet.softmax(T.dot(l4, w_5))\n",
        "\n",
        "y_hat_train = model(X, w_1, w_2, w_3, w_4, w_5, 0.2, 0.5)\n",
        "y_hat_predict = model(X, w_1, w_2, w_3, w_4, w_5, 0., 0.)\n",
        "y_x = T.argmax(y_hat, axis=1)\n",
        "\n",
        "## (3) Cost\n",
        "cost = T.mean(T.nnet.categorical_crossentropy(y_hat_train, Y))\n",
        "\n",
        "## (4) Minimization.  \n",
        "def backprop(cost, w, alpha=0.001, rho=0.9, epsilon=1e-6):\n",
        "    grads = T.grad(cost=cost, wrt=w)\n",
        "    updates = []\n",
        "    for w1, grad in zip(w, grads):\n",
        "        \n",
        "        # adding gradient scaling\n",
        "        acc = theano.shared(w1.get_value() * 0.)\n",
        "        acc_new = rho * acc + (1 - rho) * grad ** 2\n",
        "        gradient_scaling = T.sqrt(acc_new + epsilon)\n",
        "        grad = grad / gradient_scaling\n",
        "        updates.append((acc, acc_new))\n",
        "        \n",
        "        updates.append((w1, w1 - grad * alpha))\n",
        "    return updates\n",
        "\n",
        "update = backprop(cost, params)\n",
        "train = theano.function(inputs=[X, Y], outputs=cost, updates=update, allow_input_downcast=True)\n",
        "y_pred = T.argmax(y_hat_predict, axis=1)\n",
        "predict = theano.function(inputs=[X], outputs=y_pred, allow_input_downcast=True)\n",
        "\n",
        "miniBatchSize = 1\n",
        "def gradientDescentStochastic(epochs):\n",
        "    trainTime = 0.0\n",
        "    predictTime = 0.0\n",
        "    start_time = time.time()\n",
        "    for i in range(epochs):\n",
        "        for start, end in zip(range(0, len(train_data), miniBatchSize), range(miniBatchSize, len(train_data), miniBatchSize)):\n",
        "            cost = train(train_data[start:end], train_labels_b[start:end])\n",
        "        trainTime =  trainTime + (time.time() - start_time)\n",
        "        print('%d) accuracy = %.4f' %(i+1, np.mean(np.argmax(test_labels_b, axis=1) == predict(test_data))))\n",
        "    print('train time = %.2f' %(trainTime))\n",
        "\n",
        "gradientDescentStochastic(10)\n",
        "\n",
        "start_time = time.time()\n",
        "predict(test_data)   \n",
        "print('predict time = %.2f' %(time.time() - start_time))"
      ],
      "execution_count": 20,
      "outputs": [
        {
          "output_type": "stream",
          "text": [
            "1) accuracy = 0.8035\n",
            "2) accuracy = 0.9085\n",
            "3) accuracy = 0.9355\n",
            "4) accuracy = 0.9340\n",
            "5) accuracy = 0.9480\n",
            "6) accuracy = 0.9565\n",
            "7) accuracy = 0.9635\n",
            "8) accuracy = 0.9590\n",
            "9) accuracy = 0.9595\n",
            "10) accuracy = 0.9660\n",
            "train time = 6816.39\n",
            "predict time = 9.52\n"
          ],
          "name": "stdout"
        }
      ]
    },
    {
      "cell_type": "markdown",
      "metadata": {
        "id": "-DT17poEAFNL",
        "colab_type": "text"
      },
      "source": [
        "#### Additional topic: Brain inspiration"
      ]
    },
    {
      "cell_type": "markdown",
      "metadata": {
        "id": "Bifg6m_dAFNL",
        "colab_type": "text"
      },
      "source": [
        "The architechture of the convonet was inspired by the visual cortext in the human brain.  If you are interested in learning more, check out: http://www-psych.stanford.edu/~ashas/Cognition%20Textbook/chapter2.pdf"
      ]
    },
    {
      "cell_type": "markdown",
      "metadata": {
        "id": "Qq_Kq1bNAFNM",
        "colab_type": "text"
      },
      "source": [
        "#### Additional topic: Self-Driving Vehicles"
      ]
    },
    {
      "cell_type": "markdown",
      "metadata": {
        "id": "Lf-qBzj0AFNM",
        "colab_type": "text"
      },
      "source": [
        "Convolutional networks are starting to be used more and more for self-driving vehicles.  This past year, NVIDEA started produced a chipset for self-driving vehicles that analyzes the video of up to 14 cameras using convonets for \n",
        "\n",
        "CES 2015 parts 6,7,9\n",
        "\n",
        "https://www.youtube.com/watch?v=-vKGkxeflGw\n",
        "\n",
        "https://www.youtube.com/watch?v=zsVsUvx8ieo\n",
        "\n",
        "https://www.youtube.com/watch?v=RvQVyGOynFY\n",
        "\n",
        "GTC 2015 parts 4,5,7,9\n",
        "\n",
        "https://www.youtube.com/watch?v=pqvdZ2jp1NA\n",
        "\n",
        "https://www.youtube.com/watch?v=GGxdP_JWhwI\n",
        "\n",
        "https://www.youtube.com/watch?v=Tb7ZYSTYHbw\n",
        "\n",
        "https://www.youtube.com/watch?v=TDm6Snkle70"
      ]
    }
  ]
}